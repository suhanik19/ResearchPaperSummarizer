{
  "nbformat": 4,
  "nbformat_minor": 0,
  "metadata": {
    "colab": {
      "provenance": [],
      "authorship_tag": "ABX9TyOb0xwpwcf5iTku+VtEn0TO",
      "include_colab_link": true
    },
    "kernelspec": {
      "name": "python3",
      "display_name": "Python 3"
    },
    "language_info": {
      "name": "python"
    }
  },
  "cells": [
    {
      "cell_type": "markdown",
      "metadata": {
        "id": "view-in-github",
        "colab_type": "text"
      },
      "source": [
        "<a href=\"https://colab.research.google.com/github/suhanik19/research-paper-summarizer/blob/main/Summarize_Research_Papers.ipynb\" target=\"_parent\"><img src=\"https://colab.research.google.com/assets/colab-badge.svg\" alt=\"Open In Colab\"/></a>"
      ]
    },
    {
      "cell_type": "code",
      "execution_count": null,
      "metadata": {
        "collapsed": true,
        "id": "Ngyqz8eNMbad"
      },
      "outputs": [],
      "source": [
        "!pip install -U sentence-transformers\n",
        "!pip install keybert\n",
        "!pip install transformers\n",
        "\n",
        "import nltk\n",
        "nltk.download('wordnet')"
      ]
    },
    {
      "cell_type": "code",
      "source": [
        "from sentence_transformers import SentenceTransformer, util\n",
        "from keybert import KeyBERT\n",
        "from nltk.corpus import wordnet\n",
        "from nltk.stem import WordNetLemmatizer\n",
        "from sklearn.metrics.pairwise import cosine_similarity\n",
        "from transformers import pipeline\n",
        "import numpy as np\n",
        "import os\n",
        "import json\n",
        "import requests"
      ],
      "metadata": {
        "id": "DPaQABOQMsyQ"
      },
      "execution_count": null,
      "outputs": []
    },
    {
      "cell_type": "code",
      "source": [
        "model = SentenceTransformer('all-MiniLM-L6-v2')\n",
        "key_model = KeyBERT('all-MiniLM-L6-v2')\n",
        "sentiment_model = \"distilbert-base-uncased-finetuned-sst-2-english\"\n",
        "lemmatizer = WordNetLemmatizer()\n",
        "\n",
        "\n",
        "def summarizer(abstract):\n",
        "  #splits the text into individual sentences\n",
        "  papers = abstract.split(\".\")\n",
        "\n",
        "  # Compute sentence embeddings\n",
        "  sentence_embeddings = np.array(model.encode(papers))\n",
        "\n",
        "  # Calculate the mean embedding (overall theme of the text)\n",
        "  mean_embedding = np.mean(sentence_embeddings, axis=0)\n",
        "\n",
        "  similarities = cosine_similarity([mean_embedding], sentence_embeddings)[0]\n",
        "\n",
        "  # Rank sentences based on cosine similarity (highest similarity = most important)\n",
        "  top_n = int(input(\"Number of sentences you want in the summary: \"))  # Number of sentences you want in the summary\n",
        "  top_sentence_indices = similarities.argsort()[-top_n:][::-1]  # Get top-N indices\n",
        "\n",
        "  # Generate the summary\n",
        "  summary = [papers[i] for i in top_sentence_indices]\n",
        "\n",
        "  # Print the summary\n",
        "  print(\"\\nSummary:\")\n",
        "  for sentence in summary:\n",
        "      print(sentence)\n",
        "\n",
        "def keywords(abstract):\n",
        "\n",
        "  # Extract only unique keywords (convert to set and back to list to ensure uniqueness)\n",
        "  # unique_keywords = list(set([keyword for keyword, score in keywords]))\n",
        "\n",
        "  # Function to get the part of speech for lemmatization\n",
        "  def get_wordnet_pos(word):\n",
        "      \"\"\"helps the lemmatizer to correctly identify whether a word is a noun, verb, adjective, etc., improving accuracy.\"\"\"\n",
        "      tag = wordnet.synsets(word)\n",
        "      if not tag:\n",
        "          return wordnet.NOUN\n",
        "      tag = tag[0].pos()\n",
        "      return tag\n",
        "\n",
        "  # Extract keywords (keyphrase_ngram_range=(1, 1) ensures single words)\n",
        "  keywords = key_model.extract_keywords(abstract, keyphrase_ngram_range=(1, 1), stop_words='english', top_n=10)\n",
        "\n",
        "  # Lemmatize the keywords to group similar words (like \"predictive\", \"prediction\", etc.)\n",
        "  lemmatized_keywords = list(set([lemmatizer.lemmatize(keyword, get_wordnet_pos(keyword)) for keyword, score in keywords]))\n",
        "\n",
        "  # Select the top N unique keywords\n",
        "  top_n = 5\n",
        "  final_keywords = lemmatized_keywords[:top_n]\n",
        "\n",
        "  # Print unique and lemmatized keywords\n",
        "  print(\"\\nUnique Keywords:\")\n",
        "  print(final_keywords)\n",
        "\n",
        "def sentiment_analysis(abstract):\n",
        "  # Perform sentiment analysis using the Hugging Face model\n",
        "  sentiment_analysis_model = pipeline(\"sentiment-analysis\", sentiment_model)\n",
        "  sentiment_results = sentiment_analysis_model(abstract)\n",
        "\n",
        "  # Print the sentiment result\n",
        "  print(\"\\nSentiment Analysis Result:\")\n",
        "  print(sentiment_results)\n",
        "\n",
        "\n",
        "def main():\n",
        "  question = input(\"Choose between the following: \\n1. Summarizer \\n2. Keywords \\n3. Sentiment Analysis \\n4. All \\n\")\n",
        "  abstract = input(\"Enter abstract here: \")\n",
        "  if question == \"1\":\n",
        "    summarizer(abstract)\n",
        "  elif question == \"2\":\n",
        "    keywords(abstract)\n",
        "  elif question == \"3\":\n",
        "    sentiment_analysis(abstract)\n",
        "  elif question == \"4\":\n",
        "    summarizer(abstract)\n",
        "    keywords(abstract)\n",
        "    sentiment_analysis(abstract)\n",
        "  else:\n",
        "    print(\"Invalid input\")\n",
        "\n",
        "main()"
      ],
      "metadata": {
        "id": "l-qfd-FKM13Y"
      },
      "execution_count": null,
      "outputs": []
    }
  ]
}